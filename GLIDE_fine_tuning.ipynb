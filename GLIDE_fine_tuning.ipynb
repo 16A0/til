{
  "cells": [
    {
      "cell_type": "markdown",
      "metadata": {
        "id": "view-in-github",
        "colab_type": "text"
      },
      "source": [
        "<a href=\"https://colab.research.google.com/github/16A0/til/blob/master/GLIDE_fine_tuning.ipynb\" target=\"_parent\"><img src=\"https://colab.research.google.com/assets/colab-badge.svg\" alt=\"Open In Colab\"/></a>"
      ]
    },
    {
      "cell_type": "markdown",
      "metadata": {
        "id": "2p5a0YOMxSFZ"
      },
      "source": [
        "based on woctezuma's Colab\n",
        "\n",
        "edits by @nev#4905\n",
        "\n",
        "2021/12/21: added non-square resolution, colab forms\n",
        "\n",
        "2021/12/31: added fine-tuning\n",
        "\n",
        "References:\n",
        "- https://github.com/openai/glide-text2im\n",
        "- https://github.com/woctezuma/glide-text2im-colab"
      ]
    },
    {
      "cell_type": "markdown",
      "metadata": {
        "id": "rf5pf_mwOqCm"
      },
      "source": [
        "### Install package"
      ]
    },
    {
      "cell_type": "code",
      "execution_count": null,
      "metadata": {
        "colab": {
          "base_uri": "https://localhost:8080/"
        },
        "id": "aL8du-leNk7F",
        "outputId": "ebbb03ed-cbfb-4e74-fff2-6ff0ef7a068d"
      },
      "outputs": [
        {
          "output_type": "stream",
          "name": "stdout",
          "text": [
            "Cloning into 'glide-text2im'...\n",
            "remote: Enumerating objects: 66, done.\u001b[K\n",
            "remote: Counting objects: 100% (56/56), done.\u001b[K\n",
            "remote: Compressing objects: 100% (42/42), done.\u001b[K\n",
            "remote: Total 66 (delta 23), reused 33 (delta 14), pack-reused 10\u001b[K\n",
            "Unpacking objects: 100% (66/66), done.\n",
            "/content/glide-text2im\n",
            "\u001b[K     |████████████████████████████████| 64 kB 1.8 MB/s \n",
            "\u001b[?25h  Building wheel for ftfy (setup.py) ... \u001b[?25l\u001b[?25hdone\n"
          ]
        }
      ],
      "source": [
        "!git clone https://github.com/openai/glide-text2im.git\n",
        "%cd glide-text2im\n",
        "!pip install -q -e ."
      ]
    },
    {
      "cell_type": "markdown",
      "metadata": {
        "id": "MDMaMUwRO0Pm"
      },
      "source": [
        "### Set-up functions, models and options"
      ]
    },
    {
      "cell_type": "code",
      "execution_count": null,
      "metadata": {
        "id": "BCSZT7R2NOGv"
      },
      "outputs": [],
      "source": [
        "from PIL import Image\n",
        "from IPython.display import display\n",
        "import torch as th\n",
        "\n",
        "from glide_text2im.download import load_checkpoint\n",
        "from glide_text2im.model_creation import (\n",
        "    create_model_and_diffusion,\n",
        "    model_and_diffusion_defaults,\n",
        "    model_and_diffusion_defaults_upsampler\n",
        ")"
      ]
    },
    {
      "cell_type": "code",
      "execution_count": null,
      "metadata": {
        "id": "a4QBvuzfNOG6"
      },
      "outputs": [],
      "source": [
        "# This notebook supports both CPU and GPU.\n",
        "# On CPU, generating one sample may take on the order of 20 minutes.\n",
        "# On a GPU, it should be under a minute.\n",
        "\n",
        "has_cuda = th.cuda.is_available()\n",
        "fp16 = False\n",
        "device = th.device('cpu' if not has_cuda else 'cuda')"
      ]
    },
    {
      "cell_type": "code",
      "execution_count": null,
      "metadata": {
        "colab": {
          "base_uri": "https://localhost:8080/",
          "height": 142,
          "referenced_widgets": [
            "0cf1fbc60d624af288c29a484a7f5073",
            "aa7515ca78af408c9cd40da6ff4185aa",
            "a79905ae005348588af54448eb1108be",
            "50d052cfaa5c42368b64d495ce79993b",
            "664a1d45b8c64d63befb38e1085d5109",
            "00cdd9666b434527975ecce349ff750b",
            "4b474931608d495b85f8480302936e13",
            "db3f267365db456f830def57e68e8e8f",
            "f9ce66a3b4da4bcfb0abdf43271d9203",
            "d66b7d7c571e4fef9584df60028b9a77",
            "fb29b2ec3a964db18167123cac47bd27"
          ]
        },
        "id": "7Zt1vrctNOG8",
        "outputId": "97a573b6-1411-4d02-e4bc-528bb7be3d57"
      },
      "outputs": [
        {
          "output_type": "display_data",
          "data": {
            "application/vnd.jupyter.widget-view+json": {
              "model_id": "0cf1fbc60d624af288c29a484a7f5073",
              "version_minor": 0,
              "version_major": 2
            },
            "text/plain": [
              "  0%|          | 0.00/1.54G [00:00<?, ?iB/s]"
            ]
          },
          "metadata": {}
        },
        {
          "output_type": "stream",
          "name": "stdout",
          "text": [
            "total base parameters 385030726\n"
          ]
        }
      ],
      "source": [
        "# Create base model.\n",
        "options = model_and_diffusion_defaults()\n",
        "options['use_fp16'] = has_cuda and fp16\n",
        "options['timestep_respacing'] = '100' # use 100 diffusion steps for fast sampling\n",
        "model, diffusion = create_model_and_diffusion(**options)\n",
        "model.eval()\n",
        "if has_cuda and fp16:\n",
        "    model.convert_to_fp16()\n",
        "model.to(device)\n",
        "model.load_state_dict(load_checkpoint('base', device))\n",
        "print('total base parameters', sum(x.numel() for x in model.parameters()))"
      ]
    },
    {
      "cell_type": "code",
      "execution_count": null,
      "metadata": {
        "colab": {
          "base_uri": "https://localhost:8080/",
          "height": 142,
          "referenced_widgets": [
            "deff64d85b184743919297150d3cceac",
            "7d44f2d5eccc4de28052fa079577f8fa",
            "faff1158ad5b4bea969df7af0ebdfccd",
            "048ac97dcac648cdac5cccc03e631edb",
            "85b1cf99f27b4255ba7d29aa14f38342",
            "38fe569044524641991651fd74d125aa",
            "38ef863cce0a4fb9a7e8e53ae41cb4f9",
            "5842d10db17947ab9a3db408742864d8",
            "7fda1ed47122433cb65e7f41b3b76aab",
            "bf5ea7a8295e4ea7a724f4c8bb5ddc22",
            "82009737d3ad41d48cbf9bc60f19296e"
          ]
        },
        "id": "JoJ_xoYdNOG-",
        "outputId": "57f49aee-80db-4c29-a5c8-a96880cd47f8"
      },
      "outputs": [
        {
          "output_type": "display_data",
          "data": {
            "application/vnd.jupyter.widget-view+json": {
              "model_id": "deff64d85b184743919297150d3cceac",
              "version_minor": 0,
              "version_major": 2
            },
            "text/plain": [
              "  0%|          | 0.00/1.59G [00:00<?, ?iB/s]"
            ]
          },
          "metadata": {}
        },
        {
          "output_type": "stream",
          "name": "stdout",
          "text": [
            "total upsampler parameters 398361286\n"
          ]
        }
      ],
      "source": [
        "# Create upsampler model.\n",
        "options_up = model_and_diffusion_defaults_upsampler()\n",
        "options_up['use_fp16'] = has_cuda and fp16\n",
        "options_up['timestep_respacing'] = 'fast27' # use 27 diffusion steps for very fast sampling\n",
        "model_up, diffusion_up = create_model_and_diffusion(**options_up)\n",
        "model_up.eval()\n",
        "if has_cuda and fp16:\n",
        "    model_up.convert_to_fp16()\n",
        "model_up.to(device)\n",
        "model_up.load_state_dict(load_checkpoint('upsample', device))\n",
        "print('total upsampler parameters', sum(x.numel() for x in model_up.parameters()))"
      ]
    },
    {
      "cell_type": "code",
      "execution_count": null,
      "metadata": {
        "id": "U55PSe1zNOHA"
      },
      "outputs": [],
      "source": [
        "def show_images(batch: th.Tensor):\n",
        "    \"\"\" Display a batch of images inline. \"\"\"\n",
        "    scaled = ((batch + 1)*127.5).round().clamp(0,255).to(th.uint8).cpu()\n",
        "    reshaped = scaled.permute(2, 0, 3, 1).reshape([batch.shape[2], -1, 3])\n",
        "    display(Image.fromarray(reshaped.numpy()))"
      ]
    },
    {
      "cell_type": "markdown",
      "metadata": {
        "id": "b7AYtgbxO4sG"
      },
      "source": [
        "### Input **your** text prompt"
      ]
    },
    {
      "cell_type": "code",
      "execution_count": null,
      "metadata": {
        "cellView": "form",
        "id": "jWDlp7teQFVb"
      },
      "outputs": [],
      "source": [
        "#@title resolution settings\n",
        "\n",
        "#@markdown the resolution goes up to 192x128 on a 12GB K80. it takes 2 minutes to generate at 128x64 and 10 for 256x128.\n",
        "\n",
        "#@markdown the final resolution of the image after upsampling will be 4x higher \n",
        "\n",
        "side_x = 64  #@param {type: \"integer\"}\n",
        "side_y =   64#@param {type: \"integer\"}\n",
        "upsample_x = 4  #@param {type: \"integer\"}"
      ]
    },
    {
      "cell_type": "markdown",
      "source": [
        "### Fine-tuning"
      ],
      "metadata": {
        "id": "EJQkIKJpD237"
      }
    },
    {
      "cell_type": "code",
      "execution_count": null,
      "metadata": {
        "colab": {
          "base_uri": "https://localhost:8080/",
          "height": 136
        },
        "id": "cfgJxh7h33VF",
        "outputId": "71d0b263-c0f7-42d4-f582-efd16712550c",
        "cellView": "form"
      },
      "outputs": [
        {
          "output_type": "stream",
          "name": "stderr",
          "text": [
            "/usr/local/lib/python3.7/dist-packages/ipykernel_launcher.py:8: UserWarning: The given NumPy array is not writeable, and PyTorch does not support non-writeable tensors. This means you can write to the underlying (supposedly non-writeable) NumPy array using the tensor. You may want to copy the array to protect its data or make it writeable before converting it to a tensor. This type of warning will be suppressed for the rest of this program. (Triggered internally at  ../torch/csrc/utils/tensor_numpy.cpp:189.)\n",
            "  \n"
          ]
        },
        {
          "output_type": "display_data",
          "data": {
            "image/png": "[encoded data removed]",
            "text/plain": [
              "<PIL.Image.Image image mode=RGB size=64x64 at 0x7F1193300F50>"
            ]
          },
          "metadata": {}
        }
      ],
      "source": [
        "#@title image to tune with\n",
        "import torch\n",
        "import requests\n",
        "import numpy as np\n",
        "from PIL import Image\n",
        "\n",
        "\n",
        "preprocess = lambda x: torch.from_numpy(np.asarray(x.resize((side_x, side_y)).convert(\"RGB\"))).unsqueeze(0).permute(0, 3, 1, 2).to(device) / 127. - 1.\n",
        "download = lambda x: preprocess(Image.open(requests.get(x, stream=True).raw))\n",
        "img_path = \"https://cdn.discordapp.com/attachments/730484623028519072/926386737167622175/unknown.png\" #@param [\"https://cdn.discordapp.com/attachments/869675061211181107/924292876601540638/Title.jpg\", \"https://cdn.discordapp.com/attachments/730484623028519072/926386737167622175/unknown.png\"] {type: \"string\", allow-input: true} \n",
        "t = download(img_path)\n",
        "t.shape\n",
        "show_images(t)"
      ]
    },
    {
      "cell_type": "code",
      "execution_count": null,
      "metadata": {
        "colab": {
          "base_uri": "https://localhost:8080/",
          "height": 286,
          "referenced_widgets": [
            "cef384742a074023874479d92e26a246",
            "78a1558796ff493c95f20d4cac98b6ff"
          ]
        },
        "id": "g39e0JECv4dC",
        "outputId": "2aa7dbac-65e9-4189-8878-e1604c7bf290",
        "cellView": "form"
      },
      "outputs": [
        {
          "output_type": "display_data",
          "data": {
            "application/vnd.jupyter.widget-view+json": {
              "model_id": "cef384742a074023874479d92e26a246",
              "version_minor": 0,
              "version_major": 2
            },
            "text/plain": [
              "Output()"
            ]
          },
          "metadata": {}
        },
        {
          "output_type": "stream",
          "name": "stderr",
          "text": [
            "loss: 0.5442173704504967: 100%|██████████| 50/50 [01:37<00:00,  1.95s/it]\n"
          ]
        }
      ],
      "source": [
        "#@title training\n",
        "from tqdm import trange, tqdm\n",
        "\n",
        "import gc\n",
        "from ipywidgets import Output\n",
        "from IPython.display import display\n",
        "from matplotlib import pyplot as plt\n",
        "from IPython.display import clear_output\n",
        "\n",
        "\n",
        "gc.collect()\n",
        "torch.cuda.empty_cache()\n",
        "learning_rate = 2e-5  #@param {type: \"number\"}\n",
        "model.requires_grad_(True)\n",
        "optim = th.optim.Adam([x for x in model.parameters() if x.requires_grad], lr=learning_rate)\n",
        "batch_size = 2  #@param {type: \"integer\"}\n",
        "grad_acc = 4  #@param {type: \"integer\"}\n",
        "train_steps = 50  #@param {type: \"integer\"}\n",
        "# prompts disabled\n",
        "# # Create the text tokens to feed to the model.\n",
        "# tokens = model.tokenizer.encode(prompt)\n",
        "# tokens, mask = model.tokenizer.padded_tokens_and_mask(\n",
        "#     tokens, options['text_ctx']\n",
        "# )\n",
        "# Create the classifier-free guidance tokens (empty)\n",
        "full_batch_size = batch_size  # * 2\n",
        "uncond_tokens, uncond_mask = model.tokenizer.padded_tokens_and_mask(\n",
        "    [], options['text_ctx']\n",
        ")\n",
        "\n",
        "# Pack the tokens together into model kwargs.\n",
        "model_kwargs = dict(\n",
        "    tokens=th.tensor(\n",
        "        # [tokens] * batch_size + \n",
        "        [uncond_tokens] * batch_size, device=device\n",
        "    ),\n",
        "    mask=th.tensor(\n",
        "        # [mask] * batch_size + \n",
        "        [uncond_mask] * batch_size,\n",
        "        dtype=th.bool,\n",
        "        device=device,\n",
        "    ),\n",
        ")\n",
        "x = t.detach().clone().repeat((full_batch_size, 1, 1, 1))\n",
        "\n",
        "\n",
        "def _extract_into_tensor(arr, timesteps, broadcast_shape):\n",
        "    \"\"\"\n",
        "    Extract values from a 1-D numpy array for a batch of indices.\n",
        "    :param arr: the 1-D numpy array.\n",
        "    :param timesteps: a tensor of indices into the array to extract.\n",
        "    :param broadcast_shape: a larger shape of K dimensions with the batch\n",
        "                            dimension equal to the length of timesteps.\n",
        "    :return: a tensor of shape [batch_size, 1, ...] where the shape has K dims.\n",
        "    \"\"\"\n",
        "    # print(arr.shape, timesteps.shape)\n",
        "    res = th.from_numpy(arr).to(device=timesteps.device)[timesteps].float()\n",
        "    # res = th.gather(res, 0, timesteps)\n",
        "    # print(res.shape, timesteps.shape)# [timesteps].float()\n",
        "    # print(\"before while\")\n",
        "    # return\n",
        "    while len(res.shape) < len(broadcast_shape):\n",
        "        res = res[..., None]\n",
        "    return res.expand(broadcast_shape)\n",
        "\n",
        "\n",
        "out = Output()\n",
        "display(out)\n",
        "losses = []\n",
        "bar = trange(train_steps)\n",
        "l = 0\n",
        "try:\n",
        "    for i in bar:\n",
        "        ts = torch.randint(0, 99, (full_batch_size,)).to(x.device)\n",
        "        noise_variance = _extract_into_tensor(diffusion.betas, ts, x.shape)\n",
        "        orig_noise = th.randn_like(x, device=x.device)\n",
        "        noise = (noise_variance ** 0.5).to(x.device) * orig_noise\n",
        "        output = model(x + noise, ts * 10, **model_kwargs)\n",
        "        eps = output[..., :3, :, :]\n",
        "        loss = th.nn.functional.mse_loss(eps, orig_noise)\n",
        "        l += loss.item()\n",
        "        loss.backward()\n",
        "        if i % grad_acc == grad_acc - 1:\n",
        "            optim.step()\n",
        "            optim.zero_grad()\n",
        "            l /= grad_acc\n",
        "            bar.set_description(f\"loss: {l}\")\n",
        "            losses.append(l)\n",
        "            l = 0\n",
        "            with out:\n",
        "                clear_output()\n",
        "                plt.plot(losses)\n",
        "                plt.show()\n",
        "except KeyboardInterrupt:\n",
        "    pass"
      ]
    },
    {
      "cell_type": "markdown",
      "metadata": {
        "id": "UX0uFu4EQFxS"
      },
      "source": [
        "### Sample at your resolution"
      ]
    },
    {
      "cell_type": "code",
      "execution_count": null,
      "metadata": {
        "cellView": "form",
        "id": "wTIvLDaRNOHB"
      },
      "outputs": [],
      "source": [
        "#@title sampling parameters\n",
        "prompt = \"an landscape painting of switzerland\" #@param {type: \"string\", allow-input: true} [\"an landscape painting of switzerland\", \"an oil painting of a cat\"]\n",
        "\n",
        "batch_size = 1  #@param {type: \"integer\"}\n",
        "guidance_scale = 3.0  #@param {type: \"number\"}\n",
        "\n",
        "# Tune this parameter to control the sharpness of 256x256 images.\n",
        "# A value of 1.0 is sharper, but sometimes results in grainy artifacts.\n",
        "upsample_temp = 0.997  #@param {type: \"number\"}"
      ]
    },
    {
      "cell_type": "code",
      "execution_count": null,
      "metadata": {
        "colab": {
          "base_uri": "https://localhost:8080/",
          "height": 113,
          "referenced_widgets": [
            "e38eb386f9e84d9b9f2a9053dfa89342",
            "2a7e25c238484ea8b8825df262e09307",
            "dd75f645255a4fdf96698d1b73fade67",
            "73fe34219803431aa60d9d062e57be2c",
            "33ad3bf8108443e6bb991465470443bd",
            "132396339ea745f5abd5eb5376dc8baa",
            "4c0d3039fe7042baacd05388e4962c0c",
            "46d20fa60f1744989be09830bec1d566",
            "b16fffc4b57046b0be49defb325898ed",
            "b89e3032625c430e9627f0b40505a03e",
            "94aa855ce005467d8b16ae1a59cb9ae9",
            "7edc1ed3f5c346e99de5cc70f87e0b5e",
            "b48074fdb1054c82923be62e9f98c6cc"
          ]
        },
        "id": "0vL5aXMgNOHF",
        "outputId": "bfd81e86-6e10-47dc-df9b-cb0f5dd14f6a",
        "cellView": "form"
      },
      "outputs": [
        {
          "output_type": "display_data",
          "data": {
            "application/vnd.jupyter.widget-view+json": {
              "model_id": "e38eb386f9e84d9b9f2a9053dfa89342",
              "version_minor": 0,
              "version_major": 2
            },
            "text/plain": [
              "Output()"
            ]
          },
          "metadata": {}
        },
        {
          "output_type": "display_data",
          "data": {
            "application/vnd.jupyter.widget-view+json": {
              "model_id": "dd75f645255a4fdf96698d1b73fade67",
              "version_minor": 0,
              "version_major": 2
            },
            "text/plain": [
              "  0%|          | 0/100 [00:00<?, ?it/s]"
            ]
          },
          "metadata": {}
        }
      ],
      "source": [
        "##############################\n",
        "#@title Sample from the base model #\n",
        "##############################\n",
        "import torch\n",
        "\n",
        "out = Output()\n",
        "display(out)\n",
        "\n",
        "# Create the text tokens to feed to the model.\n",
        "tokens = model.tokenizer.encode(prompt)\n",
        "tokens, mask = model.tokenizer.padded_tokens_and_mask(\n",
        "    tokens, options['text_ctx']\n",
        ")\n",
        "\n",
        "# Create the classifier-free guidance tokens (empty)\n",
        "full_batch_size = batch_size * 2\n",
        "uncond_tokens, uncond_mask = model.tokenizer.padded_tokens_and_mask(\n",
        "    [], options['text_ctx']\n",
        ")\n",
        "\n",
        "# Pack the tokens together into model kwargs.\n",
        "model_kwargs = dict(\n",
        "    tokens=th.tensor(\n",
        "        [tokens] * batch_size + [uncond_tokens] * batch_size, device=device\n",
        "    ),\n",
        "    mask=th.tensor(\n",
        "        [mask] * batch_size + [uncond_mask] * batch_size,\n",
        "        dtype=th.bool,\n",
        "        device=device,\n",
        "    ),\n",
        ")\n",
        "\n",
        "\n",
        "# Create a classifier-free guidance sampling function\n",
        "def model_fn(x_t, ts, **kwargs):\n",
        "    half = x_t[: len(x_t) // 2]\n",
        "    combined = th.cat([half, half], dim=0)\n",
        "    # print(ts)\n",
        "    model_out = model(combined, ts, **kwargs)\n",
        "    eps, rest = model_out[:, :3], model_out[:, 3:]\n",
        "    cond_eps, uncond_eps = th.split(eps, len(eps) // 2, dim=0)\n",
        "    beta = diffusion.betas[ts.flatten()[0].item() // 10]\n",
        "    half_eps = uncond_eps + guidance_scale * (cond_eps - uncond_eps)\n",
        "    eps = th.cat([half_eps, half_eps], dim=0)\n",
        "    with out:\n",
        "        clear_output()\n",
        "        show_images((x_t - eps * (beta ** 0.5))[:batch_size])\n",
        "    return th.cat([eps, rest], dim=1)\n",
        "\n",
        "# Sample from the base model.\n",
        "model.del_cache()\n",
        "with torch.inference_mode():\n",
        "    samples = diffusion.p_sample_loop(\n",
        "        model_fn,\n",
        "        (full_batch_size, 3, side_y, side_x),  # only thing that's changed\n",
        "        device=device,\n",
        "        clip_denoised=True,\n",
        "        progress=True,\n",
        "        model_kwargs=model_kwargs,\n",
        "        cond_fn=None,\n",
        "    )[:batch_size]\n",
        "model.del_cache()"
      ]
    },
    {
      "cell_type": "markdown",
      "metadata": {
        "id": "e38KxGgeP-vR"
      },
      "source": [
        "### Show the output"
      ]
    },
    {
      "cell_type": "code",
      "execution_count": null,
      "metadata": {
        "colab": {
          "base_uri": "https://localhost:8080/",
          "height": 81
        },
        "id": "yJ98jwv_P-K5",
        "outputId": "54a08be6-b244-4a3a-d4e8-23455d03d714"
      },
      "outputs": [
        {
          "output_type": "display_data",
          "data": {
            "image/png": "[encoded data removed]",
            "text/plain": [
              "<PIL.Image.Image image mode=RGB size=64x64 at 0x7F117D42C090>"
            ]
          },
          "metadata": {}
        }
      ],
      "source": [
        "show_images(samples)"
      ]
    },
    {
      "cell_type": "markdown",
      "metadata": {
        "id": "h075ElqBPmq8"
      },
      "source": [
        "### Upsample to 4x resolution"
      ]
    },
    {
      "cell_type": "code",
      "execution_count": null,
      "metadata": {
        "colab": {
          "base_uri": "https://localhost:8080/",
          "height": 49,
          "referenced_widgets": [
            "d7fae4ca1c114ae197b50101ed552558",
            "561f3bf086c84af3a00e7ff5804223e7",
            "679ca2a8763f4f788061b683a25bc59b",
            "ffc23967eb574008b80a60dd659d8f28",
            "b5549624ba734986a636a8dadc6de0ba",
            "1b9bc9fcee6e41ddacedb2da650671e8",
            "08408a8244e74b8d854d6af1e88ea473",
            "684b994f0d8141739a758f6d2deedd20",
            "4fb3b4c8248946439f6c4e674c730ca4",
            "8a83bd251d6b4973ac7631d45177ac9e",
            "e5abea1b8d514f09972f9c0f6996f4d4"
          ]
        },
        "id": "FdFBhsSYNOHH",
        "outputId": "0f90a9c4-785a-4cc0-95db-90f207dbfd6a",
        "cellView": "form"
      },
      "outputs": [
        {
          "output_type": "display_data",
          "data": {
            "application/vnd.jupyter.widget-view+json": {
              "model_id": "d7fae4ca1c114ae197b50101ed552558",
              "version_minor": 0,
              "version_major": 2
            },
            "text/plain": [
              "  0%|          | 0/27 [00:00<?, ?it/s]"
            ]
          },
          "metadata": {}
        }
      ],
      "source": [
        "##############################\n",
        "#@title Upsample the low-res images #\n",
        "##############################\n",
        "\n",
        "tokens = model_up.tokenizer.encode(prompt)\n",
        "tokens, mask = model_up.tokenizer.padded_tokens_and_mask(\n",
        "    tokens, options_up['text_ctx']\n",
        ")\n",
        "\n",
        "# Create the model conditioning dict.\n",
        "model_kwargs = dict(\n",
        "    # Low-res image to upsample.\n",
        "    low_res=((samples+1)*127.5).round()/127.5 - 1,\n",
        "\n",
        "    # Text tokens\n",
        "    tokens=th.tensor(\n",
        "        [tokens] * batch_size, device=device\n",
        "    ),\n",
        "    mask=th.tensor(\n",
        "        [mask] * batch_size,\n",
        "        dtype=th.bool,\n",
        "        device=device,\n",
        "    ),\n",
        ")\n",
        "\n",
        "# Sample from the base model.\n",
        "model_up.del_cache()\n",
        "up_shape = (batch_size, 3, side_y * upsample_x, side_x * upsample_x)\n",
        "up_samples = diffusion_up.ddim_sample_loop(\n",
        "    model_up,\n",
        "    up_shape,\n",
        "    noise=th.randn(up_shape, device=device) * upsample_temp,\n",
        "    device=device,\n",
        "    clip_denoised=True,\n",
        "    progress=True,\n",
        "    model_kwargs=model_kwargs,\n",
        "    cond_fn=None,\n",
        ")[:batch_size]\n",
        "model_up.del_cache()"
      ]
    },
    {
      "cell_type": "markdown",
      "metadata": {
        "id": "rSz87eX0QbM4"
      },
      "source": [
        "### Show the output"
      ]
    },
    {
      "cell_type": "code",
      "execution_count": null,
      "metadata": {
        "colab": {
          "base_uri": "https://localhost:8080/",
          "height": 273
        },
        "id": "vUI3HJ5hQZFT",
        "outputId": "46ec55d2-69b5-49e9-a884-9dafce5152eb"
      },
      "outputs": [
        {
          "output_type": "display_data",
          "data": {
            "image/png": "[encoded data removed]",
            "text/plain": [
              "<PIL.Image.Image image mode=RGB size=256x256 at 0x7F117D3FD9D0>"
            ]
          },
          "metadata": {}
        }
      ],
      "source": [
        "show_images(up_samples)"
      ]
    },
    {
      "cell_type": "markdown",
      "metadata": {
        "id": "nJBC4dAcRE35"
      },
      "source": [
        "the end"
      ]
    }
  ],
  "metadata": {
    "accelerator": "GPU",
    "colab": {
      "collapsed_sections": [
        "rf5pf_mwOqCm",
        "MDMaMUwRO0Pm"
      ],
      "name": "GLIDE fine-tuning",
      "provenance": [],
      "include_colab_link": true
    },
    "interpreter": {
      "hash": "e7d6e62d90e7e85f9a0faa7f0b1d576302d7ae6108e9fe361594f8e1c8b05781"
    },
    "kernelspec": {
      "display_name": "Python 3",
      "language": "python",
      "name": "python3"
    },
    "language_info": {
      "codemirror_mode": {
        "name": "ipython",
        "version": 3
      },
      "file_extension": ".py",
      "mimetype": "text/x-python",
      "name": "python",
      "nbconvert_exporter": "python",
      "pygments_lexer": "ipython3",
      "version": "3.7.3"
    },
    "widgets": {
      "application/vnd.jupyter.widget-state+json": {
        "0cf1fbc60d624af288c29a484a7f5073": {
          "model_module": "@jupyter-widgets/controls",
          "model_name": "HBoxModel",
          "model_module_version": "1.5.0",
          "state": {
            "_view_name": "HBoxView",
            "_dom_classes": [],
            "_model_name": "HBoxModel",
            "_view_module": "@jupyter-widgets/controls",
            "_model_module_version": "1.5.0",
            "_view_count": null,
            "_view_module_version": "1.5.0",
            "box_style": "",
            "layout": "IPY_MODEL_aa7515ca78af408c9cd40da6ff4185aa",
            "_model_module": "@jupyter-widgets/controls",
            "children": [
              "IPY_MODEL_a79905ae005348588af54448eb1108be",
              "IPY_MODEL_50d052cfaa5c42368b64d495ce79993b",
              "IPY_MODEL_664a1d45b8c64d63befb38e1085d5109"
            ]
          }
        },
        "aa7515ca78af408c9cd40da6ff4185aa": {
          "model_module": "@jupyter-widgets/base",
          "model_name": "LayoutModel",
          "model_module_version": "1.2.0",
          "state": {
            "_view_name": "LayoutView",
            "grid_template_rows": null,
            "right": null,
            "justify_content": null,
            "_view_module": "@jupyter-widgets/base",
            "overflow": null,
            "_model_module_version": "1.2.0",
            "_view_count": null,
            "flex_flow": null,
            "width": null,
            "min_width": null,
            "border": null,
            "align_items": null,
            "bottom": null,
            "_model_module": "@jupyter-widgets/base",
            "top": null,
            "grid_column": null,
            "overflow_y": null,
            "overflow_x": null,
            "grid_auto_flow": null,
            "grid_area": null,
            "grid_template_columns": null,
            "flex": null,
            "_model_name": "LayoutModel",
            "justify_items": null,
            "grid_row": null,
            "max_height": null,
            "align_content": null,
            "visibility": null,
            "align_self": null,
            "height": null,
            "min_height": null,
            "padding": null,
            "grid_auto_rows": null,
            "grid_gap": null,
            "max_width": null,
            "order": null,
            "_view_module_version": "1.2.0",
            "grid_template_areas": null,
            "object_position": null,
            "object_fit": null,
            "grid_auto_columns": null,
            "margin": null,
            "display": null,
            "left": null
          }
        },
        "a79905ae005348588af54448eb1108be": {
          "model_module": "@jupyter-widgets/controls",
          "model_name": "HTMLModel",
          "model_module_version": "1.5.0",
          "state": {
            "_view_name": "HTMLView",
            "style": "IPY_MODEL_00cdd9666b434527975ecce349ff750b",
            "_dom_classes": [],
            "description": "",
            "_model_name": "HTMLModel",
            "placeholder": "​",
            "_view_module": "@jupyter-widgets/controls",
            "_model_module_version": "1.5.0",
            "value": "100%",
            "_view_count": null,
            "_view_module_version": "1.5.0",
            "description_tooltip": null,
            "_model_module": "@jupyter-widgets/controls",
            "layout": "IPY_MODEL_4b474931608d495b85f8480302936e13"
          }
        },
        "50d052cfaa5c42368b64d495ce79993b": {
          "model_module": "@jupyter-widgets/controls",
          "model_name": "FloatProgressModel",
          "model_module_version": "1.5.0",
          "state": {
            "_view_name": "ProgressView",
            "style": "IPY_MODEL_db3f267365db456f830def57e68e8e8f",
            "_dom_classes": [],
            "description": "",
            "_model_name": "FloatProgressModel",
            "bar_style": "success",
            "max": 1540366691,
            "_view_module": "@jupyter-widgets/controls",
            "_model_module_version": "1.5.0",
            "value": 1540366691,
            "_view_count": null,
            "_view_module_version": "1.5.0",
            "orientation": "horizontal",
            "min": 0,
            "description_tooltip": null,
            "_model_module": "@jupyter-widgets/controls",
            "layout": "IPY_MODEL_f9ce66a3b4da4bcfb0abdf43271d9203"
          }
        },
        "664a1d45b8c64d63befb38e1085d5109": {
          "model_module": "@jupyter-widgets/controls",
          "model_name": "HTMLModel",
          "model_module_version": "1.5.0",
          "state": {
            "_view_name": "HTMLView",
            "style": "IPY_MODEL_d66b7d7c571e4fef9584df60028b9a77",
            "_dom_classes": [],
            "description": "",
            "_model_name": "HTMLModel",
            "placeholder": "​",
            "_view_module": "@jupyter-widgets/controls",
            "_model_module_version": "1.5.0",
            "value": " 1.54G/1.54G [00:29&lt;00:00, 46.5MiB/s]",
            "_view_count": null,
            "_view_module_version": "1.5.0",
            "description_tooltip": null,
            "_model_module": "@jupyter-widgets/controls",
            "layout": "IPY_MODEL_fb29b2ec3a964db18167123cac47bd27"
          }
        },
        "00cdd9666b434527975ecce349ff750b": {
          "model_module": "@jupyter-widgets/controls",
          "model_name": "DescriptionStyleModel",
          "model_module_version": "1.5.0",
          "state": {
            "_view_name": "StyleView",
            "_model_name": "DescriptionStyleModel",
            "description_width": "",
            "_view_module": "@jupyter-widgets/base",
            "_model_module_version": "1.5.0",
            "_view_count": null,
            "_view_module_version": "1.2.0",
            "_model_module": "@jupyter-widgets/controls"
          }
        },
        "4b474931608d495b85f8480302936e13": {
          "model_module": "@jupyter-widgets/base",
          "model_name": "LayoutModel",
          "model_module_version": "1.2.0",
          "state": {
            "_view_name": "LayoutView",
            "grid_template_rows": null,
            "right": null,
            "justify_content": null,
            "_view_module": "@jupyter-widgets/base",
            "overflow": null,
            "_model_module_version": "1.2.0",
            "_view_count": null,
            "flex_flow": null,
            "width": null,
            "min_width": null,
            "border": null,
            "align_items": null,
            "bottom": null,
            "_model_module": "@jupyter-widgets/base",
            "top": null,
            "grid_column": null,
            "overflow_y": null,
            "overflow_x": null,
            "grid_auto_flow": null,
            "grid_area": null,
            "grid_template_columns": null,
            "flex": null,
            "_model_name": "LayoutModel",
            "justify_items": null,
            "grid_row": null,
            "max_height": null,
            "align_content": null,
            "visibility": null,
            "align_self": null,
            "height": null,
            "min_height": null,
            "padding": null,
            "grid_auto_rows": null,
            "grid_gap": null,
            "max_width": null,
            "order": null,
            "_view_module_version": "1.2.0",
            "grid_template_areas": null,
            "object_position": null,
            "object_fit": null,
            "grid_auto_columns": null,
            "margin": null,
            "display": null,
            "left": null
          }
        },
        "db3f267365db456f830def57e68e8e8f": {
          "model_module": "@jupyter-widgets/controls",
          "model_name": "ProgressStyleModel",
          "model_module_version": "1.5.0",
          "state": {
            "_view_name": "StyleView",
            "_model_name": "ProgressStyleModel",
            "description_width": "",
            "_view_module": "@jupyter-widgets/base",
            "_model_module_version": "1.5.0",
            "_view_count": null,
            "_view_module_version": "1.2.0",
            "bar_color": null,
            "_model_module": "@jupyter-widgets/controls"
          }
        },
        "f9ce66a3b4da4bcfb0abdf43271d9203": {
          "model_module": "@jupyter-widgets/base",
          "model_name": "LayoutModel",
          "model_module_version": "1.2.0",
          "state": {
            "_view_name": "LayoutView",
            "grid_template_rows": null,
            "right": null,
            "justify_content": null,
            "_view_module": "@jupyter-widgets/base",
            "overflow": null,
            "_model_module_version": "1.2.0",
            "_view_count": null,
            "flex_flow": null,
            "width": null,
            "min_width": null,
            "border": null,
            "align_items": null,
            "bottom": null,
            "_model_module": "@jupyter-widgets/base",
            "top": null,
            "grid_column": null,
            "overflow_y": null,
            "overflow_x": null,
            "grid_auto_flow": null,
            "grid_area": null,
            "grid_template_columns": null,
            "flex": null,
            "_model_name": "LayoutModel",
            "justify_items": null,
            "grid_row": null,
            "max_height": null,
            "align_content": null,
            "visibility": null,
            "align_self": null,
            "height": null,
            "min_height": null,
            "padding": null,
            "grid_auto_rows": null,
            "grid_gap": null,
            "max_width": null,
            "order": null,
            "_view_module_version": "1.2.0",
            "grid_template_areas": null,
            "object_position": null,
            "object_fit": null,
            "grid_auto_columns": null,
            "margin": null,
            "display": null,
            "left": null
          }
        },
        "d66b7d7c571e4fef9584df60028b9a77": {
          "model_module": "@jupyter-widgets/controls",
          "model_name": "DescriptionStyleModel",
          "model_module_version": "1.5.0",
          "state": {
            "_view_name": "StyleView",
            "_model_name": "DescriptionStyleModel",
            "description_width": "",
            "_view_module": "@jupyter-widgets/base",
            "_model_module_version": "1.5.0",
            "_view_count": null,
            "_view_module_version": "1.2.0",
            "_model_module": "@jupyter-widgets/controls"
          }
        },
        "fb29b2ec3a964db18167123cac47bd27": {
          "model_module": "@jupyter-widgets/base",
          "model_name": "LayoutModel",
          "model_module_version": "1.2.0",
          "state": {
            "_view_name": "LayoutView",
            "grid_template_rows": null,
            "right": null,
            "justify_content": null,
            "_view_module": "@jupyter-widgets/base",
            "overflow": null,
            "_model_module_version": "1.2.0",
            "_view_count": null,
            "flex_flow": null,
            "width": null,
            "min_width": null,
            "border": null,
            "align_items": null,
            "bottom": null,
            "_model_module": "@jupyter-widgets/base",
            "top": null,
            "grid_column": null,
            "overflow_y": null,
            "overflow_x": null,
            "grid_auto_flow": null,
            "grid_area": null,
            "grid_template_columns": null,
            "flex": null,
            "_model_name": "LayoutModel",
            "justify_items": null,
            "grid_row": null,
            "max_height": null,
            "align_content": null,
            "visibility": null,
            "align_self": null,
            "height": null,
            "min_height": null,
            "padding": null,
            "grid_auto_rows": null,
            "grid_gap": null,
            "max_width": null,
            "order": null,
            "_view_module_version": "1.2.0",
            "grid_template_areas": null,
            "object_position": null,
            "object_fit": null,
            "grid_auto_columns": null,
            "margin": null,
            "display": null,
            "left": null
          }
        },
        "deff64d85b184743919297150d3cceac": {
          "model_module": "@jupyter-widgets/controls",
          "model_name": "HBoxModel",
          "model_module_version": "1.5.0",
          "state": {
            "_view_name": "HBoxView",
            "_dom_classes": [],
            "_model_name": "HBoxModel",
            "_view_module": "@jupyter-widgets/controls",
            "_model_module_version": "1.5.0",
            "_view_count": null,
            "_view_module_version": "1.5.0",
            "box_style": "",
            "layout": "IPY_MODEL_7d44f2d5eccc4de28052fa079577f8fa",
            "_model_module": "@jupyter-widgets/controls",
            "children": [
              "IPY_MODEL_faff1158ad5b4bea969df7af0ebdfccd",
              "IPY_MODEL_048ac97dcac648cdac5cccc03e631edb",
              "IPY_MODEL_85b1cf99f27b4255ba7d29aa14f38342"
            ]
          }
        },
        "7d44f2d5eccc4de28052fa079577f8fa": {
          "model_module": "@jupyter-widgets/base",
          "model_name": "LayoutModel",
          "model_module_version": "1.2.0",
          "state": {
            "_view_name": "LayoutView",
            "grid_template_rows": null,
            "right": null,
            "justify_content": null,
            "_view_module": "@jupyter-widgets/base",
            "overflow": null,
            "_model_module_version": "1.2.0",
            "_view_count": null,
            "flex_flow": null,
            "width": null,
            "min_width": null,
            "border": null,
            "align_items": null,
            "bottom": null,
            "_model_module": "@jupyter-widgets/base",
            "top": null,
            "grid_column": null,
            "overflow_y": null,
            "overflow_x": null,
            "grid_auto_flow": null,
            "grid_area": null,
            "grid_template_columns": null,
            "flex": null,
            "_model_name": "LayoutModel",
            "justify_items": null,
            "grid_row": null,
            "max_height": null,
            "align_content": null,
            "visibility": null,
            "align_self": null,
            "height": null,
            "min_height": null,
            "padding": null,
            "grid_auto_rows": null,
            "grid_gap": null,
            "max_width": null,
            "order": null,
            "_view_module_version": "1.2.0",
            "grid_template_areas": null,
            "object_position": null,
            "object_fit": null,
            "grid_auto_columns": null,
            "margin": null,
            "display": null,
            "left": null
          }
        },
        "faff1158ad5b4bea969df7af0ebdfccd": {
          "model_module": "@jupyter-widgets/controls",
          "model_name": "HTMLModel",
          "model_module_version": "1.5.0",
          "state": {
            "_view_name": "HTMLView",
            "style": "IPY_MODEL_38fe569044524641991651fd74d125aa",
            "_dom_classes": [],
            "description": "",
            "_model_name": "HTMLModel",
            "placeholder": "​",
            "_view_module": "@jupyter-widgets/controls",
            "_model_module_version": "1.5.0",
            "value": "100%",
            "_view_count": null,
            "_view_module_version": "1.5.0",
            "description_tooltip": null,
            "_model_module": "@jupyter-widgets/controls",
            "layout": "IPY_MODEL_38ef863cce0a4fb9a7e8e53ae41cb4f9"
          }
        },
        "048ac97dcac648cdac5cccc03e631edb": {
          "model_module": "@jupyter-widgets/controls",
          "model_name": "FloatProgressModel",
          "model_module_version": "1.5.0",
          "state": {
            "_view_name": "ProgressView",
            "style": "IPY_MODEL_5842d10db17947ab9a3db408742864d8",
            "_dom_classes": [],
            "description": "",
            "_model_name": "FloatProgressModel",
            "bar_style": "success",
            "max": 1593693639,
            "_view_module": "@jupyter-widgets/controls",
            "_model_module_version": "1.5.0",
            "value": 1593693639,
            "_view_count": null,
            "_view_module_version": "1.5.0",
            "orientation": "horizontal",
            "min": 0,
            "description_tooltip": null,
            "_model_module": "@jupyter-widgets/controls",
            "layout": "IPY_MODEL_7fda1ed47122433cb65e7f41b3b76aab"
          }
        },
        "85b1cf99f27b4255ba7d29aa14f38342": {
          "model_module": "@jupyter-widgets/controls",
          "model_name": "HTMLModel",
          "model_module_version": "1.5.0",
          "state": {
            "_view_name": "HTMLView",
            "style": "IPY_MODEL_bf5ea7a8295e4ea7a724f4c8bb5ddc22",
            "_dom_classes": [],
            "description": "",
            "_model_name": "HTMLModel",
            "placeholder": "​",
            "_view_module": "@jupyter-widgets/controls",
            "_model_module_version": "1.5.0",
            "value": " 1.59G/1.59G [00:39&lt;00:00, 57.5MiB/s]",
            "_view_count": null,
            "_view_module_version": "1.5.0",
            "description_tooltip": null,
            "_model_module": "@jupyter-widgets/controls",
            "layout": "IPY_MODEL_82009737d3ad41d48cbf9bc60f19296e"
          }
        },
        "38fe569044524641991651fd74d125aa": {
          "model_module": "@jupyter-widgets/controls",
          "model_name": "DescriptionStyleModel",
          "model_module_version": "1.5.0",
          "state": {
            "_view_name": "StyleView",
            "_model_name": "DescriptionStyleModel",
            "description_width": "",
            "_view_module": "@jupyter-widgets/base",
            "_model_module_version": "1.5.0",
            "_view_count": null,
            "_view_module_version": "1.2.0",
            "_model_module": "@jupyter-widgets/controls"
          }
        },
        "38ef863cce0a4fb9a7e8e53ae41cb4f9": {
          "model_module": "@jupyter-widgets/base",
          "model_name": "LayoutModel",
          "model_module_version": "1.2.0",
          "state": {
            "_view_name": "LayoutView",
            "grid_template_rows": null,
            "right": null,
            "justify_content": null,
            "_view_module": "@jupyter-widgets/base",
            "overflow": null,
            "_model_module_version": "1.2.0",
            "_view_count": null,
            "flex_flow": null,
            "width": null,
            "min_width": null,
            "border": null,
            "align_items": null,
            "bottom": null,
            "_model_module": "@jupyter-widgets/base",
            "top": null,
            "grid_column": null,
            "overflow_y": null,
            "overflow_x": null,
            "grid_auto_flow": null,
            "grid_area": null,
            "grid_template_columns": null,
            "flex": null,
            "_model_name": "LayoutModel",
            "justify_items": null,
            "grid_row": null,
            "max_height": null,
            "align_content": null,
            "visibility": null,
            "align_self": null,
            "height": null,
            "min_height": null,
            "padding": null,
            "grid_auto_rows": null,
            "grid_gap": null,
            "max_width": null,
            "order": null,
            "_view_module_version": "1.2.0",
            "grid_template_areas": null,
            "object_position": null,
            "object_fit": null,
            "grid_auto_columns": null,
            "margin": null,
            "display": null,
            "left": null
          }
        },
        "5842d10db17947ab9a3db408742864d8": {
          "model_module": "@jupyter-widgets/controls",
          "model_name": "ProgressStyleModel",
          "model_module_version": "1.5.0",
          "state": {
            "_view_name": "StyleView",
            "_model_name": "ProgressStyleModel",
            "description_width": "",
            "_view_module": "@jupyter-widgets/base",
            "_model_module_version": "1.5.0",
            "_view_count": null,
            "_view_module_version": "1.2.0",
            "bar_color": null,
            "_model_module": "@jupyter-widgets/controls"
          }
        },
        "7fda1ed47122433cb65e7f41b3b76aab": {
          "model_module": "@jupyter-widgets/base",
          "model_name": "LayoutModel",
          "model_module_version": "1.2.0",
          "state": {
            "_view_name": "LayoutView",
            "grid_template_rows": null,
            "right": null,
            "justify_content": null,
            "_view_module": "@jupyter-widgets/base",
            "overflow": null,
            "_model_module_version": "1.2.0",
            "_view_count": null,
            "flex_flow": null,
            "width": null,
            "min_width": null,
            "border": null,
            "align_items": null,
            "bottom": null,
            "_model_module": "@jupyter-widgets/base",
            "top": null,
            "grid_column": null,
            "overflow_y": null,
            "overflow_x": null,
            "grid_auto_flow": null,
            "grid_area": null,
            "grid_template_columns": null,
            "flex": null,
            "_model_name": "LayoutModel",
            "justify_items": null,
            "grid_row": null,
            "max_height": null,
            "align_content": null,
            "visibility": null,
            "align_self": null,
            "height": null,
            "min_height": null,
            "padding": null,
            "grid_auto_rows": null,
            "grid_gap": null,
            "max_width": null,
            "order": null,
            "_view_module_version": "1.2.0",
            "grid_template_areas": null,
            "object_position": null,
            "object_fit": null,
            "grid_auto_columns": null,
            "margin": null,
            "display": null,
            "left": null
          }
        },
        "bf5ea7a8295e4ea7a724f4c8bb5ddc22": {
          "model_module": "@jupyter-widgets/controls",
          "model_name": "DescriptionStyleModel",
          "model_module_version": "1.5.0",
          "state": {
            "_view_name": "StyleView",
            "_model_name": "DescriptionStyleModel",
            "description_width": "",
            "_view_module": "@jupyter-widgets/base",
            "_model_module_version": "1.5.0",
            "_view_count": null,
            "_view_module_version": "1.2.0",
            "_model_module": "@jupyter-widgets/controls"
          }
        },
        "82009737d3ad41d48cbf9bc60f19296e": {
          "model_module": "@jupyter-widgets/base",
          "model_name": "LayoutModel",
          "model_module_version": "1.2.0",
          "state": {
            "_view_name": "LayoutView",
            "grid_template_rows": null,
            "right": null,
            "justify_content": null,
            "_view_module": "@jupyter-widgets/base",
            "overflow": null,
            "_model_module_version": "1.2.0",
            "_view_count": null,
            "flex_flow": null,
            "width": null,
            "min_width": null,
            "border": null,
            "align_items": null,
            "bottom": null,
            "_model_module": "@jupyter-widgets/base",
            "top": null,
            "grid_column": null,
            "overflow_y": null,
            "overflow_x": null,
            "grid_auto_flow": null,
            "grid_area": null,
            "grid_template_columns": null,
            "flex": null,
            "_model_name": "LayoutModel",
            "justify_items": null,
            "grid_row": null,
            "max_height": null,
            "align_content": null,
            "visibility": null,
            "align_self": null,
            "height": null,
            "min_height": null,
            "padding": null,
            "grid_auto_rows": null,
            "grid_gap": null,
            "max_width": null,
            "order": null,
            "_view_module_version": "1.2.0",
            "grid_template_areas": null,
            "object_position": null,
            "object_fit": null,
            "grid_auto_columns": null,
            "margin": null,
            "display": null,
            "left": null
          }
        },
        "cef384742a074023874479d92e26a246": {
          "model_module": "@jupyter-widgets/output",
          "model_name": "OutputModel",
          "model_module_version": "1.0.0",
          "state": {
            "_view_name": "OutputView",
            "msg_id": "",
            "_dom_classes": [],
            "_model_name": "OutputModel",
            "outputs": [
              {
                "output_type": "display_data",
                "data": {
                  "image/png": "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\n",
                  "text/plain": "<Figure size 432x288 with 1 Axes>"
                },
                "metadata": {
                  "needs_background": "light"
                }
              }
            ],
            "_view_module": "@jupyter-widgets/output",
            "_model_module_version": "1.0.0",
            "_view_count": null,
            "_view_module_version": "1.0.0",
            "layout": "IPY_MODEL_78a1558796ff493c95f20d4cac98b6ff",
            "_model_module": "@jupyter-widgets/output"
          }
        },
        "78a1558796ff493c95f20d4cac98b6ff": {
          "model_module": "@jupyter-widgets/base",
          "model_name": "LayoutModel",
          "model_module_version": "1.2.0",
          "state": {
            "_view_name": "LayoutView",
            "grid_template_rows": null,
            "right": null,
            "justify_content": null,
            "_view_module": "@jupyter-widgets/base",
            "overflow": null,
            "_model_module_version": "1.2.0",
            "_view_count": null,
            "flex_flow": null,
            "width": null,
            "min_width": null,
            "border": null,
            "align_items": null,
            "bottom": null,
            "_model_module": "@jupyter-widgets/base",
            "top": null,
            "grid_column": null,
            "overflow_y": null,
            "overflow_x": null,
            "grid_auto_flow": null,
            "grid_area": null,
            "grid_template_columns": null,
            "flex": null,
            "_model_name": "LayoutModel",
            "justify_items": null,
            "grid_row": null,
            "max_height": null,
            "align_content": null,
            "visibility": null,
            "align_self": null,
            "height": null,
            "min_height": null,
            "padding": null,
            "grid_auto_rows": null,
            "grid_gap": null,
            "max_width": null,
            "order": null,
            "_view_module_version": "1.2.0",
            "grid_template_areas": null,
            "object_position": null,
            "object_fit": null,
            "grid_auto_columns": null,
            "margin": null,
            "display": null,
            "left": null
          }
        },
        "e38eb386f9e84d9b9f2a9053dfa89342": {
          "model_module": "@jupyter-widgets/output",
          "model_name": "OutputModel",
          "model_module_version": "1.0.0",
          "state": {
            "_view_name": "OutputView",
            "msg_id": "",
            "_dom_classes": [],
            "_model_name": "OutputModel",
            "outputs": [
              {
                "output_type": "display_data",
                "data": {
                  "image/png": "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\n",
                  "text/plain": "<PIL.Image.Image image mode=RGB size=128x64 at 0x7F1191CEFE90>"
                },
                "metadata": {}
              }
            ],
            "_view_module": "@jupyter-widgets/output",
            "_model_module_version": "1.0.0",
            "_view_count": null,
            "_view_module_version": "1.0.0",
            "layout": "IPY_MODEL_2a7e25c238484ea8b8825df262e09307",
            "_model_module": "@jupyter-widgets/output"
          }
        },
        "2a7e25c238484ea8b8825df262e09307": {
          "model_module": "@jupyter-widgets/base",
          "model_name": "LayoutModel",
          "model_module_version": "1.2.0",
          "state": {
            "_view_name": "LayoutView",
            "grid_template_rows": null,
            "right": null,
            "justify_content": null,
            "_view_module": "@jupyter-widgets/base",
            "overflow": null,
            "_model_module_version": "1.2.0",
            "_view_count": null,
            "flex_flow": null,
            "width": null,
            "min_width": null,
            "border": null,
            "align_items": null,
            "bottom": null,
            "_model_module": "@jupyter-widgets/base",
            "top": null,
            "grid_column": null,
            "overflow_y": null,
            "overflow_x": null,
            "grid_auto_flow": null,
            "grid_area": null,
            "grid_template_columns": null,
            "flex": null,
            "_model_name": "LayoutModel",
            "justify_items": null,
            "grid_row": null,
            "max_height": null,
            "align_content": null,
            "visibility": null,
            "align_self": null,
            "height": null,
            "min_height": null,
            "padding": null,
            "grid_auto_rows": null,
            "grid_gap": null,
            "max_width": null,
            "order": null,
            "_view_module_version": "1.2.0",
            "grid_template_areas": null,
            "object_position": null,
            "object_fit": null,
            "grid_auto_columns": null,
            "margin": null,
            "display": null,
            "left": null
          }
        },
        "dd75f645255a4fdf96698d1b73fade67": {
          "model_module": "@jupyter-widgets/controls",
          "model_name": "HBoxModel",
          "model_module_version": "1.5.0",
          "state": {
            "_view_name": "HBoxView",
            "_dom_classes": [],
            "_model_name": "HBoxModel",
            "_view_module": "@jupyter-widgets/controls",
            "_model_module_version": "1.5.0",
            "_view_count": null,
            "_view_module_version": "1.5.0",
            "box_style": "",
            "layout": "IPY_MODEL_73fe34219803431aa60d9d062e57be2c",
            "_model_module": "@jupyter-widgets/controls",
            "children": [
              "IPY_MODEL_33ad3bf8108443e6bb991465470443bd",
              "IPY_MODEL_132396339ea745f5abd5eb5376dc8baa",
              "IPY_MODEL_4c0d3039fe7042baacd05388e4962c0c"
            ]
          }
        },
        "73fe34219803431aa60d9d062e57be2c": {
          "model_module": "@jupyter-widgets/base",
          "model_name": "LayoutModel",
          "model_module_version": "1.2.0",
          "state": {
            "_view_name": "LayoutView",
            "grid_template_rows": null,
            "right": null,
            "justify_content": null,
            "_view_module": "@jupyter-widgets/base",
            "overflow": null,
            "_model_module_version": "1.2.0",
            "_view_count": null,
            "flex_flow": null,
            "width": null,
            "min_width": null,
            "border": null,
            "align_items": null,
            "bottom": null,
            "_model_module": "@jupyter-widgets/base",
            "top": null,
            "grid_column": null,
            "overflow_y": null,
            "overflow_x": null,
            "grid_auto_flow": null,
            "grid_area": null,
            "grid_template_columns": null,
            "flex": null,
            "_model_name": "LayoutModel",
            "justify_items": null,
            "grid_row": null,
            "max_height": null,
            "align_content": null,
            "visibility": null,
            "align_self": null,
            "height": null,
            "min_height": null,
            "padding": null,
            "grid_auto_rows": null,
            "grid_gap": null,
            "max_width": null,
            "order": null,
            "_view_module_version": "1.2.0",
            "grid_template_areas": null,
            "object_position": null,
            "object_fit": null,
            "grid_auto_columns": null,
            "margin": null,
            "display": null,
            "left": null
          }
        },
        "33ad3bf8108443e6bb991465470443bd": {
          "model_module": "@jupyter-widgets/controls",
          "model_name": "HTMLModel",
          "model_module_version": "1.5.0",
          "state": {
            "_view_name": "HTMLView",
            "style": "IPY_MODEL_46d20fa60f1744989be09830bec1d566",
            "_dom_classes": [],
            "description": "",
            "_model_name": "HTMLModel",
            "placeholder": "​",
            "_view_module": "@jupyter-widgets/controls",
            "_model_module_version": "1.5.0",
            "value": "100%",
            "_view_count": null,
            "_view_module_version": "1.5.0",
            "description_tooltip": null,
            "_model_module": "@jupyter-widgets/controls",
            "layout": "IPY_MODEL_b16fffc4b57046b0be49defb325898ed"
          }
        },
        "132396339ea745f5abd5eb5376dc8baa": {
          "model_module": "@jupyter-widgets/controls",
          "model_name": "FloatProgressModel",
          "model_module_version": "1.5.0",
          "state": {
            "_view_name": "ProgressView",
            "style": "IPY_MODEL_b89e3032625c430e9627f0b40505a03e",
            "_dom_classes": [],
            "description": "",
            "_model_name": "FloatProgressModel",
            "bar_style": "success",
            "max": 100,
            "_view_module": "@jupyter-widgets/controls",
            "_model_module_version": "1.5.0",
            "value": 100,
            "_view_count": null,
            "_view_module_version": "1.5.0",
            "orientation": "horizontal",
            "min": 0,
            "description_tooltip": null,
            "_model_module": "@jupyter-widgets/controls",
            "layout": "IPY_MODEL_94aa855ce005467d8b16ae1a59cb9ae9"
          }
        },
        "4c0d3039fe7042baacd05388e4962c0c": {
          "model_module": "@jupyter-widgets/controls",
          "model_name": "HTMLModel",
          "model_module_version": "1.5.0",
          "state": {
            "_view_name": "HTMLView",
            "style": "IPY_MODEL_7edc1ed3f5c346e99de5cc70f87e0b5e",
            "_dom_classes": [],
            "description": "",
            "_model_name": "HTMLModel",
            "placeholder": "​",
            "_view_module": "@jupyter-widgets/controls",
            "_model_module_version": "1.5.0",
            "value": " 100/100 [01:21&lt;00:00,  1.22it/s]",
            "_view_count": null,
            "_view_module_version": "1.5.0",
            "description_tooltip": null,
            "_model_module": "@jupyter-widgets/controls",
            "layout": "IPY_MODEL_b48074fdb1054c82923be62e9f98c6cc"
          }
        },
        "46d20fa60f1744989be09830bec1d566": {
          "model_module": "@jupyter-widgets/controls",
          "model_name": "DescriptionStyleModel",
          "model_module_version": "1.5.0",
          "state": {
            "_view_name": "StyleView",
            "_model_name": "DescriptionStyleModel",
            "description_width": "",
            "_view_module": "@jupyter-widgets/base",
            "_model_module_version": "1.5.0",
            "_view_count": null,
            "_view_module_version": "1.2.0",
            "_model_module": "@jupyter-widgets/controls"
          }
        },
        "b16fffc4b57046b0be49defb325898ed": {
          "model_module": "@jupyter-widgets/base",
          "model_name": "LayoutModel",
          "model_module_version": "1.2.0",
          "state": {
            "_view_name": "LayoutView",
            "grid_template_rows": null,
            "right": null,
            "justify_content": null,
            "_view_module": "@jupyter-widgets/base",
            "overflow": null,
            "_model_module_version": "1.2.0",
            "_view_count": null,
            "flex_flow": null,
            "width": null,
            "min_width": null,
            "border": null,
            "align_items": null,
            "bottom": null,
            "_model_module": "@jupyter-widgets/base",
            "top": null,
            "grid_column": null,
            "overflow_y": null,
            "overflow_x": null,
            "grid_auto_flow": null,
            "grid_area": null,
            "grid_template_columns": null,
            "flex": null,
            "_model_name": "LayoutModel",
            "justify_items": null,
            "grid_row": null,
            "max_height": null,
            "align_content": null,
            "visibility": null,
            "align_self": null,
            "height": null,
            "min_height": null,
            "padding": null,
            "grid_auto_rows": null,
            "grid_gap": null,
            "max_width": null,
            "order": null,
            "_view_module_version": "1.2.0",
            "grid_template_areas": null,
            "object_position": null,
            "object_fit": null,
            "grid_auto_columns": null,
            "margin": null,
            "display": null,
            "left": null
          }
        },
        "b89e3032625c430e9627f0b40505a03e": {
          "model_module": "@jupyter-widgets/controls",
          "model_name": "ProgressStyleModel",
          "model_module_version": "1.5.0",
          "state": {
            "_view_name": "StyleView",
            "_model_name": "ProgressStyleModel",
            "description_width": "",
            "_view_module": "@jupyter-widgets/base",
            "_model_module_version": "1.5.0",
            "_view_count": null,
            "_view_module_version": "1.2.0",
            "bar_color": null,
            "_model_module": "@jupyter-widgets/controls"
          }
        },
        "94aa855ce005467d8b16ae1a59cb9ae9": {
          "model_module": "@jupyter-widgets/base",
          "model_name": "LayoutModel",
          "model_module_version": "1.2.0",
          "state": {
            "_view_name": "LayoutView",
            "grid_template_rows": null,
            "right": null,
            "justify_content": null,
            "_view_module": "@jupyter-widgets/base",
            "overflow": null,
            "_model_module_version": "1.2.0",
            "_view_count": null,
            "flex_flow": null,
            "width": null,
            "min_width": null,
            "border": null,
            "align_items": null,
            "bottom": null,
            "_model_module": "@jupyter-widgets/base",
            "top": null,
            "grid_column": null,
            "overflow_y": null,
            "overflow_x": null,
            "grid_auto_flow": null,
            "grid_area": null,
            "grid_template_columns": null,
            "flex": null,
            "_model_name": "LayoutModel",
            "justify_items": null,
            "grid_row": null,
            "max_height": null,
            "align_content": null,
            "visibility": null,
            "align_self": null,
            "height": null,
            "min_height": null,
            "padding": null,
            "grid_auto_rows": null,
            "grid_gap": null,
            "max_width": null,
            "order": null,
            "_view_module_version": "1.2.0",
            "grid_template_areas": null,
            "object_position": null,
            "object_fit": null,
            "grid_auto_columns": null,
            "margin": null,
            "display": null,
            "left": null
          }
        },
        "7edc1ed3f5c346e99de5cc70f87e0b5e": {
          "model_module": "@jupyter-widgets/controls",
          "model_name": "DescriptionStyleModel",
          "model_module_version": "1.5.0",
          "state": {
            "_view_name": "StyleView",
            "_model_name": "DescriptionStyleModel",
            "description_width": "",
            "_view_module": "@jupyter-widgets/base",
            "_model_module_version": "1.5.0",
            "_view_count": null,
            "_view_module_version": "1.2.0",
            "_model_module": "@jupyter-widgets/controls"
          }
        },
        "b48074fdb1054c82923be62e9f98c6cc": {
          "model_module": "@jupyter-widgets/base",
          "model_name": "LayoutModel",
          "model_module_version": "1.2.0",
          "state": {
            "_view_name": "LayoutView",
            "grid_template_rows": null,
            "right": null,
            "justify_content": null,
            "_view_module": "@jupyter-widgets/base",
            "overflow": null,
            "_model_module_version": "1.2.0",
            "_view_count": null,
            "flex_flow": null,
            "width": null,
            "min_width": null,
            "border": null,
            "align_items": null,
            "bottom": null,
            "_model_module": "@jupyter-widgets/base",
            "top": null,
            "grid_column": null,
            "overflow_y": null,
            "overflow_x": null,
            "grid_auto_flow": null,
            "grid_area": null,
            "grid_template_columns": null,
            "flex": null,
            "_model_name": "LayoutModel",
            "justify_items": null,
            "grid_row": null,
            "max_height": null,
            "align_content": null,
            "visibility": null,
            "align_self": null,
            "height": null,
            "min_height": null,
            "padding": null,
            "grid_auto_rows": null,
            "grid_gap": null,
            "max_width": null,
            "order": null,
            "_view_module_version": "1.2.0",
            "grid_template_areas": null,
            "object_position": null,
            "object_fit": null,
            "grid_auto_columns": null,
            "margin": null,
            "display": null,
            "left": null
          }
        },
        "d7fae4ca1c114ae197b50101ed552558": {
          "model_module": "@jupyter-widgets/controls",
          "model_name": "HBoxModel",
          "model_module_version": "1.5.0",
          "state": {
            "_view_name": "HBoxView",
            "_dom_classes": [],
            "_model_name": "HBoxModel",
            "_view_module": "@jupyter-widgets/controls",
            "_model_module_version": "1.5.0",
            "_view_count": null,
            "_view_module_version": "1.5.0",
            "box_style": "",
            "layout": "IPY_MODEL_561f3bf086c84af3a00e7ff5804223e7",
            "_model_module": "@jupyter-widgets/controls",
            "children": [
              "IPY_MODEL_679ca2a8763f4f788061b683a25bc59b",
              "IPY_MODEL_ffc23967eb574008b80a60dd659d8f28",
              "IPY_MODEL_b5549624ba734986a636a8dadc6de0ba"
            ]
          }
        },
        "561f3bf086c84af3a00e7ff5804223e7": {
          "model_module": "@jupyter-widgets/base",
          "model_name": "LayoutModel",
          "model_module_version": "1.2.0",
          "state": {
            "_view_name": "LayoutView",
            "grid_template_rows": null,
            "right": null,
            "justify_content": null,
            "_view_module": "@jupyter-widgets/base",
            "overflow": null,
            "_model_module_version": "1.2.0",
            "_view_count": null,
            "flex_flow": null,
            "width": null,
            "min_width": null,
            "border": null,
            "align_items": null,
            "bottom": null,
            "_model_module": "@jupyter-widgets/base",
            "top": null,
            "grid_column": null,
            "overflow_y": null,
            "overflow_x": null,
            "grid_auto_flow": null,
            "grid_area": null,
            "grid_template_columns": null,
            "flex": null,
            "_model_name": "LayoutModel",
            "justify_items": null,
            "grid_row": null,
            "max_height": null,
            "align_content": null,
            "visibility": null,
            "align_self": null,
            "height": null,
            "min_height": null,
            "padding": null,
            "grid_auto_rows": null,
            "grid_gap": null,
            "max_width": null,
            "order": null,
            "_view_module_version": "1.2.0",
            "grid_template_areas": null,
            "object_position": null,
            "object_fit": null,
            "grid_auto_columns": null,
            "margin": null,
            "display": null,
            "left": null
          }
        },
        "679ca2a8763f4f788061b683a25bc59b": {
          "model_module": "@jupyter-widgets/controls",
          "model_name": "HTMLModel",
          "model_module_version": "1.5.0",
          "state": {
            "_view_name": "HTMLView",
            "style": "IPY_MODEL_1b9bc9fcee6e41ddacedb2da650671e8",
            "_dom_classes": [],
            "description": "",
            "_model_name": "HTMLModel",
            "placeholder": "​",
            "_view_module": "@jupyter-widgets/controls",
            "_model_module_version": "1.5.0",
            "value": "100%",
            "_view_count": null,
            "_view_module_version": "1.5.0",
            "description_tooltip": null,
            "_model_module": "@jupyter-widgets/controls",
            "layout": "IPY_MODEL_08408a8244e74b8d854d6af1e88ea473"
          }
        },
        "ffc23967eb574008b80a60dd659d8f28": {
          "model_module": "@jupyter-widgets/controls",
          "model_name": "FloatProgressModel",
          "model_module_version": "1.5.0",
          "state": {
            "_view_name": "ProgressView",
            "style": "IPY_MODEL_684b994f0d8141739a758f6d2deedd20",
            "_dom_classes": [],
            "description": "",
            "_model_name": "FloatProgressModel",
            "bar_style": "success",
            "max": 27,
            "_view_module": "@jupyter-widgets/controls",
            "_model_module_version": "1.5.0",
            "value": 27,
            "_view_count": null,
            "_view_module_version": "1.5.0",
            "orientation": "horizontal",
            "min": 0,
            "description_tooltip": null,
            "_model_module": "@jupyter-widgets/controls",
            "layout": "IPY_MODEL_4fb3b4c8248946439f6c4e674c730ca4"
          }
        },
        "b5549624ba734986a636a8dadc6de0ba": {
          "model_module": "@jupyter-widgets/controls",
          "model_name": "HTMLModel",
          "model_module_version": "1.5.0",
          "state": {
            "_view_name": "HTMLView",
            "style": "IPY_MODEL_8a83bd251d6b4973ac7631d45177ac9e",
            "_dom_classes": [],
            "description": "",
            "_model_name": "HTMLModel",
            "placeholder": "​",
            "_view_module": "@jupyter-widgets/controls",
            "_model_module_version": "1.5.0",
            "value": " 27/27 [00:44&lt;00:00,  1.66s/it]",
            "_view_count": null,
            "_view_module_version": "1.5.0",
            "description_tooltip": null,
            "_model_module": "@jupyter-widgets/controls",
            "layout": "IPY_MODEL_e5abea1b8d514f09972f9c0f6996f4d4"
          }
        },
        "1b9bc9fcee6e41ddacedb2da650671e8": {
          "model_module": "@jupyter-widgets/controls",
          "model_name": "DescriptionStyleModel",
          "model_module_version": "1.5.0",
          "state": {
            "_view_name": "StyleView",
            "_model_name": "DescriptionStyleModel",
            "description_width": "",
            "_view_module": "@jupyter-widgets/base",
            "_model_module_version": "1.5.0",
            "_view_count": null,
            "_view_module_version": "1.2.0",
            "_model_module": "@jupyter-widgets/controls"
          }
        },
        "08408a8244e74b8d854d6af1e88ea473": {
          "model_module": "@jupyter-widgets/base",
          "model_name": "LayoutModel",
          "model_module_version": "1.2.0",
          "state": {
            "_view_name": "LayoutView",
            "grid_template_rows": null,
            "right": null,
            "justify_content": null,
            "_view_module": "@jupyter-widgets/base",
            "overflow": null,
            "_model_module_version": "1.2.0",
            "_view_count": null,
            "flex_flow": null,
            "width": null,
            "min_width": null,
            "border": null,
            "align_items": null,
            "bottom": null,
            "_model_module": "@jupyter-widgets/base",
            "top": null,
            "grid_column": null,
            "overflow_y": null,
            "overflow_x": null,
            "grid_auto_flow": null,
            "grid_area": null,
            "grid_template_columns": null,
            "flex": null,
            "_model_name": "LayoutModel",
            "justify_items": null,
            "grid_row": null,
            "max_height": null,
            "align_content": null,
            "visibility": null,
            "align_self": null,
            "height": null,
            "min_height": null,
            "padding": null,
            "grid_auto_rows": null,
            "grid_gap": null,
            "max_width": null,
            "order": null,
            "_view_module_version": "1.2.0",
            "grid_template_areas": null,
            "object_position": null,
            "object_fit": null,
            "grid_auto_columns": null,
            "margin": null,
            "display": null,
            "left": null
          }
        },
        "684b994f0d8141739a758f6d2deedd20": {
          "model_module": "@jupyter-widgets/controls",
          "model_name": "ProgressStyleModel",
          "model_module_version": "1.5.0",
          "state": {
            "_view_name": "StyleView",
            "_model_name": "ProgressStyleModel",
            "description_width": "",
            "_view_module": "@jupyter-widgets/base",
            "_model_module_version": "1.5.0",
            "_view_count": null,
            "_view_module_version": "1.2.0",
            "bar_color": null,
            "_model_module": "@jupyter-widgets/controls"
          }
        },
        "4fb3b4c8248946439f6c4e674c730ca4": {
          "model_module": "@jupyter-widgets/base",
          "model_name": "LayoutModel",
          "model_module_version": "1.2.0",
          "state": {
            "_view_name": "LayoutView",
            "grid_template_rows": null,
            "right": null,
            "justify_content": null,
            "_view_module": "@jupyter-widgets/base",
            "overflow": null,
            "_model_module_version": "1.2.0",
            "_view_count": null,
            "flex_flow": null,
            "width": null,
            "min_width": null,
            "border": null,
            "align_items": null,
            "bottom": null,
            "_model_module": "@jupyter-widgets/base",
            "top": null,
            "grid_column": null,
            "overflow_y": null,
            "overflow_x": null,
            "grid_auto_flow": null,
            "grid_area": null,
            "grid_template_columns": null,
            "flex": null,
            "_model_name": "LayoutModel",
            "justify_items": null,
            "grid_row": null,
            "max_height": null,
            "align_content": null,
            "visibility": null,
            "align_self": null,
            "height": null,
            "min_height": null,
            "padding": null,
            "grid_auto_rows": null,
            "grid_gap": null,
            "max_width": null,
            "order": null,
            "_view_module_version": "1.2.0",
            "grid_template_areas": null,
            "object_position": null,
            "object_fit": null,
            "grid_auto_columns": null,
            "margin": null,
            "display": null,
            "left": null
          }
        },
        "8a83bd251d6b4973ac7631d45177ac9e": {
          "model_module": "@jupyter-widgets/controls",
          "model_name": "DescriptionStyleModel",
          "model_module_version": "1.5.0",
          "state": {
            "_view_name": "StyleView",
            "_model_name": "DescriptionStyleModel",
            "description_width": "",
            "_view_module": "@jupyter-widgets/base",
            "_model_module_version": "1.5.0",
            "_view_count": null,
            "_view_module_version": "1.2.0",
            "_model_module": "@jupyter-widgets/controls"
          }
        },
        "e5abea1b8d514f09972f9c0f6996f4d4": {
          "model_module": "@jupyter-widgets/base",
          "model_name": "LayoutModel",
          "model_module_version": "1.2.0",
          "state": {
            "_view_name": "LayoutView",
            "grid_template_rows": null,
            "right": null,
            "justify_content": null,
            "_view_module": "@jupyter-widgets/base",
            "overflow": null,
            "_model_module_version": "1.2.0",
            "_view_count": null,
            "flex_flow": null,
            "width": null,
            "min_width": null,
            "border": null,
            "align_items": null,
            "bottom": null,
            "_model_module": "@jupyter-widgets/base",
            "top": null,
            "grid_column": null,
            "overflow_y": null,
            "overflow_x": null,
            "grid_auto_flow": null,
            "grid_area": null,
            "grid_template_columns": null,
            "flex": null,
            "_model_name": "LayoutModel",
            "justify_items": null,
            "grid_row": null,
            "max_height": null,
            "align_content": null,
            "visibility": null,
            "align_self": null,
            "height": null,
            "min_height": null,
            "padding": null,
            "grid_auto_rows": null,
            "grid_gap": null,
            "max_width": null,
            "order": null,
            "_view_module_version": "1.2.0",
            "grid_template_areas": null,
            "object_position": null,
            "object_fit": null,
            "grid_auto_columns": null,
            "margin": null,
            "display": null,
            "left": null
          }
        }
      }
    }
  },
  "nbformat": 4,
  "nbformat_minor": 0
}
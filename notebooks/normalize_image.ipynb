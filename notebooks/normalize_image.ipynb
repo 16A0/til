{
 "cells": [
  {
   "cell_type": "code",
   "execution_count": 1,
   "id": "4ba46be6",
   "metadata": {},
   "outputs": [],
   "source": [
    "import torch\n",
    "import torchvision\n",
    "import torchvision.transforms as T\n",
    "from PIL import Image"
   ]
  },
  {
   "cell_type": "code",
   "execution_count": 4,
   "id": "9efd644e",
   "metadata": {},
   "outputs": [],
   "source": [
    "img = Image.open('a.jpg')\n",
    "# convert image to torch tensor\n",
    "imgTensor = T.ToTensor()(img)"
   ]
  },
  {
   "cell_type": "code",
   "execution_count": null,
   "id": "33cf734e",
   "metadata": {},
   "outputs": [],
   "source": [
    "transform = T.Normalize(mean=(0.485, 0.456, 0.406), std=(0.229, 0.224, 0.225))"
   ]
  }
 ],
 "metadata": {
  "kernelspec": {
   "display_name": "Python 3 (ipykernel)",
   "language": "python",
   "name": "python3"
  },
  "language_info": {
   "codemirror_mode": {
    "name": "ipython",
    "version": 3
   },
   "file_extension": ".py",
   "mimetype": "text/x-python",
   "name": "python",
   "nbconvert_exporter": "python",
   "pygments_lexer": "ipython3",
   "version": "3.8.10"
  }
 },
 "nbformat": 4,
 "nbformat_minor": 5
}

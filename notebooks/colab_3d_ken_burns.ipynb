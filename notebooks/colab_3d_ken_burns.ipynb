{
  "nbformat": 4,
  "nbformat_minor": 0,
  "metadata": {
    "colab": {
      "name": "colab-3d-ken-burns.ipynb",
      "provenance": [],
      "private_outputs": true,
      "collapsed_sections": [],
      "toc_visible": true,
      "include_colab_link": true
    },
    "kernelspec": {
      "name": "python3",
      "display_name": "Python 3"
    },
    "accelerator": "GPU"
  },
  "cells": [
    {
      "cell_type": "markdown",
      "metadata": {
        "id": "view-in-github",
        "colab_type": "text"
      },
      "source": [
        "<a href=\"https://colab.research.google.com/github/16A0/experiments/blob/master/colab_3d_ken_burns.ipynb\" target=\"_parent\"><img src=\"https://colab.research.google.com/assets/colab-badge.svg\" alt=\"Open In Colab\"/></a>"
      ]
    },
    {
      "cell_type": "markdown",
      "metadata": {
        "id": "A8Nop9pf84kR"
      },
      "source": [
        "# Automatic 3D Ken Burns Effect from a Single Image\n",
        "### Updated version with Multi Image, Full Rez & FPS selection\n",
        "\n",
        "A PyTorch based implementation of the techniques presented in the following paper: ['3D Ken Burns Effect from a Single Image'](https://arxiv.org/abs/1909.05483).\n",
        "\n",
        "## Note\n",
        "Before running this notebook make sure that your runtime type is 'Python 3 with GPU acceleration'.\n",
        "\n",
        "## Credits\n",
        "- Original Implementation by: [Simon Niklaus](https://github.com/sniklaus/3d-ken-burns)\n",
        "- Updated Implementation by: [Preston Allen - pressreset](https://github.com/pressreset/Multi-FPS-Full-Rez-3d-ken-burns)\n",
        "- Original Google Colab notebook by: [Arnaldo Gabriel](https://github.com/agmm/colab-3d-ken-burns)\n",
        "- Updated Google Colab by: [Preston Allen - pressreset](https://github.com/pressreset/Colab-Multi-FPS-Full-Rez-3d-Ken-Burns)\n",
        "\n",
        "## More Info\n",
        "- Paper: https://arxiv.org/abs/1909.05483\n",
        "- Repo: https://github.com/sniklaus/3d-ken-burns\n",
        "- Video: https://www.youtube.com/watch?v=WrajxHHfRBA"
      ]
    },
    {
      "cell_type": "code",
      "metadata": {
        "id": "ySAPF18KOMOx"
      },
      "source": [
        "# Download the repo from Github\n",
        "!git clone https://github.com/pressreset/Multi-FPS-Full-Rez-3d-ken-burns.git"
      ],
      "execution_count": null,
      "outputs": []
    },
    {
      "cell_type": "code",
      "metadata": {
        "id": "i6Aha-7YPALc"
      },
      "source": [
        "# Move into the downloaded repository\n",
        "%cd Multi-FPS-Full-Rez-3d-ken-burns"
      ],
      "execution_count": null,
      "outputs": []
    },
    {
      "cell_type": "code",
      "metadata": {
        "id": "ZydVEq3jOTKD"
      },
      "source": [
        "# Install dependencies\n",
        "!pip --verbose install cupy\n",
        "!pip --verbose install moviepy"
      ],
      "execution_count": null,
      "outputs": []
    },
    {
      "cell_type": "code",
      "metadata": {
        "id": "4Nl4SOOhr9HR"
      },
      "source": [
        "# Setup environment variable for CUDA\n",
        "%env CUDA_HOME=/usr/local/cuda"
      ],
      "execution_count": null,
      "outputs": []
    },
    {
      "cell_type": "code",
      "metadata": {
        "id": "kPwSizSvqhtt"
      },
      "source": [
        "# Download the pre-trained models\n",
        "!bash download.bash"
      ],
      "execution_count": null,
      "outputs": []
    },
    {
      "cell_type": "markdown",
      "metadata": {
        "id": "hoy9wyVCbM4p"
      },
      "source": [
        "# Choose to run one of the following\n",
        "\n",
        "\n",
        "1.   Autozoom script: autozoom.py\n",
        "2.   Multi process script: multi.py\n",
        "3.   Full Resolution script: fullrez.py\n",
        "\n",
        "Once you have decided which one you would like to run, upload your media to the Colab via the \"Files\" tab on the left. Then select the cell below to run. Scripts accept jpg or png as input.\n",
        "\n",
        "---\n",
        "### Examples\n",
        "#### autozoom.py\n",
        "Process single file at low rez.\n",
        "> Options are:\n",
        "\n",
        "*   --fps (integer value) | default: 25\n",
        "*   --in (/directory path/filename.[ jpg | png ]) | default: ./images/doublestrike.jpg\n",
        "*   --out (/directory path/filename.mp4) | default: ./videos/autozoom.mp4\n",
        "\n",
        "> !python autozoom.py --fps 30 --in ./images/myimage.png --out ./videos/myimage.png\n",
        "\n",
        "#### fullrez.py\n",
        "Process single file at full rez.\n",
        "> Options are:\n",
        "\n",
        "*   --fps (integer value) | default: 25\n",
        "*   --in (/directory path/filename.[ jpg | png ]) | default: ./images/doublestrike.jpg\n",
        "*   --out (/directory path/filename.mp4) | default: ./videos/fullrez.mp4\n",
        "\n",
        "> !python fullrez.py --fps 60 --in ./images/myimage.png\n",
        "\n",
        "#### multi.py\n",
        "Process directory of files at low rez.\n",
        "> Options are:\n",
        "\n",
        "*   --fps (integer value) | default: 25\n",
        "*   --indir (/directory path/) | default: ./images/\n",
        "*   --outdir (/directory path/) | default: ./videos/\n",
        "*   --zipname (myfile.zip) | default: download.zip\n",
        "*   --nozip ([ Y ]) | default: N\n",
        "\n",
        "> !python multi.py --fps 24 --indir ./uploads/ --outdir ./outdir/ --nozip Y\n",
        "\n"
      ]
    },
    {
      "cell_type": "code",
      "metadata": {
        "id": "rnePDQ6XO1XO"
      },
      "source": [
        "# Generate the autozoom video\n",
        "!python autozoom.py --fps 24 --in ./images/hd.jpg"
      ],
      "execution_count": null,
      "outputs": []
    },
    {
      "cell_type": "code",
      "metadata": {
        "id": "_tQRkhrSaSVN"
      },
      "source": [
        "# Generate multiple videos from directory\n",
        "!python multi.py --fps 24"
      ],
      "execution_count": null,
      "outputs": []
    },
    {
      "cell_type": "code",
      "metadata": {
        "id": "nhYMOzb_aiID"
      },
      "source": [
        "# Generate fullrez video\n",
        "!python fullrez.py --fps 24"
      ],
      "execution_count": null,
      "outputs": []
    },
    {
      "cell_type": "markdown",
      "metadata": {
        "id": "7weWH-cMaFvg"
      },
      "source": [
        "Click below to play the generated video in the Colab Notebook. If you would like to re-run, start from the generator scripts above again and re-click this cell to update the video. You can also find your .mp4 file or .zip file in the \"Files\" tab to the left."
      ]
    },
    {
      "cell_type": "code",
      "metadata": {
        "id": "Tlwr5Lj7uQgB"
      },
      "source": [
        "# Play the generated video\n",
        "from IPython.display import HTML\n",
        "from base64 import b64encode\n",
        "\n",
        "def video(path):\n",
        "  mp4 = open(path,'rb').read()\n",
        "  data_url = \"data:video/mp4;base64,\" + b64encode(mp4).decode()\n",
        "  return HTML('<video width=500 controls loop> <source src=\"%s\" type=\"video/mp4\"></video>' % data_url)\n",
        "\n",
        "video('./videos/autozoom.mp4')"
      ],
      "execution_count": null,
      "outputs": []
    },
    {
      "cell_type": "markdown",
      "metadata": {
        "id": "dKi4MwRr65q2"
      },
      "source": [
        "# New Section"
      ]
    }
  ]
}